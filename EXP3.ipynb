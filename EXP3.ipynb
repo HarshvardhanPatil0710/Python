{
  "nbformat": 4,
  "nbformat_minor": 0,
  "metadata": {
    "colab": {
      "provenance": [],
      "authorship_tag": "ABX9TyMN9HrXR+9FwC1hhkkXwOlY",
      "include_colab_link": true
    },
    "kernelspec": {
      "name": "python3",
      "display_name": "Python 3"
    },
    "language_info": {
      "name": "python"
    }
  },
  "cells": [
    {
      "cell_type": "markdown",
      "metadata": {
        "id": "view-in-github",
        "colab_type": "text"
      },
      "source": [
        "<a href=\"https://colab.research.google.com/github/HarshvardhanPatil0710/Python/blob/main/EXP3.ipynb\" target=\"_parent\"><img src=\"https://colab.research.google.com/assets/colab-badge.svg\" alt=\"Open In Colab\"/></a>"
      ]
    },
    {
      "cell_type": "code",
      "execution_count": null,
      "metadata": {
        "colab": {
          "base_uri": "https://localhost:8080/"
        },
        "id": "oZpA1j1V1D64",
        "outputId": "d2e097b1-5d6d-4bb6-f3b7-0f8124d9df84"
      },
      "outputs": [
        {
          "output_type": "stream",
          "name": "stdout",
          "text": [
            "I live in Manhattan which is in New York\n"
          ]
        }
      ],
      "source": [
        "class person:\n",
        "  def __init__(self,city,state):\n",
        "    self.city = city\n",
        "    self.state = state\n",
        "  def address(self):\n",
        "    print(\"I live in\",self.city,\"which is in\",self.state)\n",
        "person1 = person(\"Manhattan\",\"New York\")\n",
        "person1.address()"
      ]
    },
    {
      "cell_type": "code",
      "source": [
        "def add(x,y):\n",
        "  return x+y\n",
        "z = add(10,15)\n",
        "print(z)"
      ],
      "metadata": {
        "colab": {
          "base_uri": "https://localhost:8080/"
        },
        "id": "Ta_vkKZOCUwH",
        "outputId": "b95b4a90-52e9-4499-83fa-9c2f0e2d5495"
      },
      "execution_count": null,
      "outputs": [
        {
          "output_type": "stream",
          "name": "stdout",
          "text": [
            "25\n"
          ]
        }
      ]
    },
    {
      "cell_type": "code",
      "source": [],
      "metadata": {
        "id": "YldojqCUEIlN"
      },
      "execution_count": null,
      "outputs": []
    }
  ]
}