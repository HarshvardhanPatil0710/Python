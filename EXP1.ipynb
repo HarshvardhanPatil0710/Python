{
  "nbformat": 4,
  "nbformat_minor": 0,
  "metadata": {
    "colab": {
      "provenance": []
    },
    "kernelspec": {
      "name": "python3",
      "display_name": "Python 3"
    },
    "language_info": {
      "name": "python"
    }
  },
  "cells": [
    {
      "cell_type": "markdown",
      "source": [],
      "metadata": {
        "id": "MwCuLldm5qbf"
      }
    },
    {
      "cell_type": "code",
      "execution_count": null,
      "metadata": {
        "colab": {
          "base_uri": "https://localhost:8080/"
        },
        "id": "0-0aJdUb2p8z",
        "outputId": "7a368c86-fa50-4e45-a42e-b695b27274e4"
      },
      "outputs": [
        {
          "output_type": "stream",
          "name": "stdout",
          "text": [
            "My name is John\n"
          ]
        }
      ],
      "source": [
        "name = \"John\"\n",
        "print(\"My name is \" + name)"
      ]
    },
    {
      "cell_type": "code",
      "source": [
        "fruits = [\"apple\",\"banana\",\"orange\"]\n",
        "print(fruits)"
      ],
      "metadata": {
        "colab": {
          "base_uri": "https://localhost:8080/"
        },
        "id": "_KNyiCDP2-jW",
        "outputId": "97b39efa-baaf-42ff-c354-958f384f722a"
      },
      "execution_count": null,
      "outputs": [
        {
          "output_type": "stream",
          "name": "stdout",
          "text": [
            "['apple', 'banana', 'orange']\n"
          ]
        }
      ]
    },
    {
      "cell_type": "code",
      "source": [
        "person = {\"Name\":\"John\",\"Age\":19,\"City\":\"Los Angeles\"}\n",
        "print(person)"
      ],
      "metadata": {
        "colab": {
          "base_uri": "https://localhost:8080/"
        },
        "id": "KIDxykWM3Sg4",
        "outputId": "ecf7e8fb-9e88-452c-e109-b5337beced96"
      },
      "execution_count": null,
      "outputs": [
        {
          "output_type": "stream",
          "name": "stdout",
          "text": [
            "{'Name': 'John', 'Age': 19, 'City': 'Los Angeles'}\n"
          ]
        }
      ]
    },
    {
      "cell_type": "code",
      "source": [
        "numbers = (1,20,19)\n",
        "print(numbers)"
      ],
      "metadata": {
        "colab": {
          "base_uri": "https://localhost:8080/"
        },
        "id": "b5Al_tlJ3zSF",
        "outputId": "1a10f1f2-fc3f-4eb4-a1c0-fcfb540782b6"
      },
      "execution_count": null,
      "outputs": [
        {
          "output_type": "stream",
          "name": "stdout",
          "text": [
            "(1, 20, 19)\n"
          ]
        }
      ]
    },
    {
      "cell_type": "code",
      "source": [],
      "metadata": {
        "id": "YUpUoMIP4LgR"
      },
      "execution_count": null,
      "outputs": []
    }
  ]
}